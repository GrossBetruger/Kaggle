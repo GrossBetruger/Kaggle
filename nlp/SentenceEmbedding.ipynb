{
 "cells": [
  {
   "cell_type": "code",
   "execution_count": null,
   "id": "3e58cf90-4778-45bd-86ef-0f302f7d3ba9",
   "metadata": {},
   "outputs": [],
   "source": [
    "from absl import logging\n",
    "\n",
    "import tensorflow as tf\n",
    "\n",
    "import tensorflow_hub as hub\n",
    "import matplotlib.pyplot as plt\n",
    "import numpy as np\n",
    "import os\n",
    "import pandas as pd\n",
    "import re\n",
    "import seaborn as sns\n",
    "\n",
    "module_url = \"https://tfhub.dev/google/universal-sentence-encoder/4\"\n",
    "model = hub.load(module_url)\n",
    "print (\"module %s loaded\" % module_url)"
   ]
  },
  {
   "cell_type": "code",
   "execution_count": null,
   "id": "fa043254-a61f-4c31-938c-6f1ca052b56b",
   "metadata": {},
   "outputs": [],
   "source": [
    "from tensorflow.python.ops.numpy_ops import np_config \n",
    "\n",
    "np_config.enable_numpy_behavior()\n",
    "\n",
    "def embed(sentences):\n",
    "    return model(sentences)\n",
    "\n",
    "def cosine(u, v):\n",
    "    return np.dot(u, v) / (np.linalg.norm(u) * np.linalg.norm(v))\n",
    "\n",
    "\n",
    "\n",
    "def plot_similarity(labels, features, rotation):\n",
    "  corr = np.inner(features, features)\n",
    "  sns.set(font_scale=1.2)\n",
    "  g = sns.heatmap(\n",
    "      corr,\n",
    "      xticklabels=labels,\n",
    "      yticklabels=labels,\n",
    "      vmin=0,\n",
    "      vmax=1,\n",
    "      cmap=\"YlOrRd\")\n",
    "  g.set_xticklabels(labels, rotation=rotation)\n",
    "  g.set_title(\"Semantic Textual Similarity\")\n",
    "\n",
    "\n",
    "def run_and_plot(messages_):\n",
    "  message_embeddings_ = embed(messages_)\n",
    "  plot_similarity(messages_, message_embeddings_, 90)\n",
    "\n",
    "a = \"machine are taking over\"\n",
    "b = \"I'm a smart toaster\"\n",
    "c = \"You are a wise oven\"\n",
    "d = \"kings and queens\"\n",
    "e = \"princes and princesses\"\n",
    "\n",
    "cosine(embed([d]).reshape(-1), embed([e]).reshape(-1))\n",
    "\n",
    "\n",
    "run_and_plot([a, b, c, d, e])"
   ]
  },
  {
   "cell_type": "code",
   "execution_count": null,
   "id": "adf2f74f-c84d-4595-abdc-2d031fed5354",
   "metadata": {},
   "outputs": [],
   "source": [
    "embed"
   ]
  }
 ],
 "metadata": {
  "kernelspec": {
   "display_name": "Python 3",
   "language": "python",
   "name": "python3"
  },
  "language_info": {
   "codemirror_mode": {
    "name": "ipython",
    "version": 3
   },
   "file_extension": ".py",
   "mimetype": "text/x-python",
   "name": "python",
   "nbconvert_exporter": "python",
   "pygments_lexer": "ipython3",
   "version": "3.9.4"
  }
 },
 "nbformat": 4,
 "nbformat_minor": 5
}
