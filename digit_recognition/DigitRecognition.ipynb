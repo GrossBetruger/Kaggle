{
 "cells": [
  {
   "cell_type": "code",
   "execution_count": 1,
   "metadata": {},
   "outputs": [],
   "source": [
    "import numpy as np\n",
    "import pandas as pd\n",
    "import tensorflow as tf\n",
    "import keras"
   ]
  },
  {
   "cell_type": "code",
   "execution_count": 2,
   "metadata": {},
   "outputs": [
    {
     "data": {
      "text/plain": [
       "(42000, 785)"
      ]
     },
     "execution_count": 2,
     "metadata": {},
     "output_type": "execute_result"
    }
   ],
   "source": [
    "from pathlib import Path\n",
    "\n",
    "data_dir = Path('data')\n",
    "train_data = pd.read_csv(data_dir / 'train.csv')\n",
    "test_data = pd.read_csv(data_dir / 'test.csv')\n",
    "\n",
    "train_data.shape"
   ]
  },
  {
   "cell_type": "code",
   "execution_count": 6,
   "metadata": {},
   "outputs": [],
   "source": [
    "from tensorflow.random import set_seed \n",
    "from sklearn.model_selection import train_test_split\n",
    "from tensorflow.keras.layers import Conv2D\n",
    "from tensorflow.keras.layers import MaxPooling2D\n",
    "from tensorflow.keras.utils import to_categorical\n",
    "\n",
    "def prepage_input_shape(data: pd.DataFrame):\n",
    "    return data.values.reshape(-1, 28, 28)\n",
    "\n",
    "\n",
    "model = keras.Sequential()\n",
    "model.add(Conv2D(\n",
    "              1, \n",
    "              kernel_size=4,\n",
    "              activation='relu',\n",
    "              input_shape=(28, 28, 1)\n",
    "            )\n",
    "         )\n",
    "model.add(Conv2D(\n",
    "              1, \n",
    "              kernel_size=4,\n",
    "              activation='sigmoid',\n",
    "              input_shape=(28, 28, 1)\n",
    "            )\n",
    "         )\n",
    "model.add(keras.layers.Flatten())\n",
    "model.add(keras.layers.Dense(10, activation='softmax'))\n",
    "\n",
    "model.compile(optimizer='adam', loss='categorical_hinge', metrics=['accuracy'])\n",
    "\n",
    "y = to_categorical(train_data.label.values) # one-hot encode target \n",
    "X = prepage_input_shape(train_data.drop('label', axis=1))\n",
    "\n",
    "X_train, X_test, y_train, y_test = train_test_split(X, y, random_state=42)\n",
    "\n",
    "early_stopping = tf.keras.callbacks.EarlyStopping(\n",
    "    monitor=\"val_accuracy\",\n",
    "    min_delta=0.005,\n",
    "    patience=8,\n",
    "    verbose=0,\n",
    "    mode=\"auto\",\n",
    "    baseline=None,\n",
    "    restore_best_weights=False,\n",
    ")"
   ]
  },
  {
   "cell_type": "code",
   "execution_count": null,
   "metadata": {},
   "outputs": [],
   "source": [
    "history = model.fit(X_train,\n",
    "                    y_train,\n",
    "                    epochs=20,\n",
    "                    validation_data=[X_test, y_test],\n",
    "                    callbacks=[early_stopping])"
   ]
  },
  {
   "cell_type": "code",
   "execution_count": 28,
   "metadata": {},
   "outputs": [
    {
     "name": "stdout",
     "output_type": "stream",
     "text": [
      "Epoch 1/50\n",
      "1313/1313 [==============================] - 6s 5ms/step - loss: 0.1207 - accuracy: 0.9457\n",
      "Epoch 2/50\n",
      "1313/1313 [==============================] - 7s 5ms/step - loss: 0.1177 - accuracy: 0.9469\n",
      "Epoch 3/50\n",
      "1313/1313 [==============================] - 7s 5ms/step - loss: 0.1157 - accuracy: 0.9477\n",
      "Epoch 4/50\n",
      "1313/1313 [==============================] - 6s 5ms/step - loss: 0.1139 - accuracy: 0.9492\n",
      "Epoch 5/50\n",
      "1313/1313 [==============================] - 6s 5ms/step - loss: 0.1125 - accuracy: 0.9492\n",
      "Epoch 6/50\n",
      "1313/1313 [==============================] - 7s 6ms/step - loss: 0.1107 - accuracy: 0.9505\n",
      "Epoch 7/50\n",
      "1313/1313 [==============================] - 8s 6ms/step - loss: 0.1091 - accuracy: 0.9507\n",
      "Epoch 8/50\n",
      "1313/1313 [==============================] - 8s 6ms/step - loss: 0.1081 - accuracy: 0.9518\n",
      "Epoch 9/50\n",
      "1313/1313 [==============================] - 7s 6ms/step - loss: 0.1071 - accuracy: 0.9518\n",
      "Epoch 10/50\n",
      "1313/1313 [==============================] - 7s 6ms/step - loss: 0.1051 - accuracy: 0.9530\n",
      "Epoch 11/50\n",
      "1313/1313 [==============================] - 7s 5ms/step - loss: 0.1040 - accuracy: 0.9535\n",
      "Epoch 12/50\n",
      "1313/1313 [==============================] - 7s 5ms/step - loss: 0.1032 - accuracy: 0.9539\n",
      "Epoch 13/50\n",
      "1313/1313 [==============================] - 7s 6ms/step - loss: 0.1023 - accuracy: 0.9542\n",
      "Epoch 14/50\n",
      "1313/1313 [==============================] - 8s 6ms/step - loss: 0.1019 - accuracy: 0.9542\n",
      "Epoch 15/50\n",
      "1313/1313 [==============================] - 7s 6ms/step - loss: 0.1008 - accuracy: 0.9546\n",
      "Epoch 16/50\n",
      "1313/1313 [==============================] - 8s 6ms/step - loss: 0.1000 - accuracy: 0.9550\n"
     ]
    }
   ],
   "source": [
    "# train on all data\n",
    "early_stopping.monitor = 'accuracy'\n",
    "history = model.fit(X,\n",
    "                    y,\n",
    "                    epochs=50,\n",
    "                    callbacks=[early_stopping])"
   ]
  },
  {
   "cell_type": "code",
   "execution_count": 15,
   "metadata": {},
   "outputs": [
    {
     "data": {
      "text/plain": [
       "array([[0., 1., 0., ..., 0., 0., 0.],\n",
       "       [1., 0., 0., ..., 0., 0., 0.],\n",
       "       [0., 1., 0., ..., 0., 0., 0.],\n",
       "       ...,\n",
       "       [0., 0., 0., ..., 0., 1., 0.],\n",
       "       [1., 0., 0., ..., 0., 0., 0.],\n",
       "       [0., 0., 0., ..., 1., 0., 0.]], dtype=float32)"
      ]
     },
     "execution_count": 15,
     "metadata": {},
     "output_type": "execute_result"
    }
   ],
   "source": [
    "# naive data augmentation - duplicate wrong predication samples\n",
    "\n",
    "aug_candidate_X = X\n",
    "aug_candidate_y = y\n",
    "\n",
    "all_preds = [x.argmax() for x in model.predict(aug_candidate_X)]\n",
    "\n",
    "hits_and_misses = zip(X_train, \n",
    "                      [p == v.argmax() for (p, v) in zip(all_preds, aug_candidate_y)], \n",
    "                      aug_candidate_y)\n",
    "\n",
    "misses = [(x, _y) for (x, hit, _y) in hits_and_misses if hit == False]\n",
    "misses_X = [item[0] for item in misses]\n",
    "misses_y = [item[1] for item in misses]\n",
    "\n",
    "# X5 augmentation of problematic data\n",
    "for _ in range(2): \n",
    "    misses_X = np.concatenate([misses_X, misses_X])\n",
    "    misses_y = np.concatenate([misses_y, misses_y])\n",
    "    \n",
    "augmented_X = np.concatenate([X, misses_X])\n",
    "augmented_y = np.concatenate([y, misses_y])\n",
    "augmented_y"
   ]
  },
  {
   "cell_type": "code",
   "execution_count": 18,
   "metadata": {},
   "outputs": [
    {
     "name": "stdout",
     "output_type": "stream",
     "text": [
      "Epoch 1/30\n",
      "1602/1602 [==============================] - 9s 6ms/step - loss: 0.4405 - accuracy: 0.7818\n",
      "Epoch 2/30\n",
      "1602/1602 [==============================] - 7s 4ms/step - loss: 0.4386 - accuracy: 0.7830\n",
      "Epoch 3/30\n",
      "1602/1602 [==============================] - 8s 5ms/step - loss: 0.4375 - accuracy: 0.7838\n",
      "Epoch 4/30\n",
      "1602/1602 [==============================] - 12s 7ms/step - loss: 0.4384 - accuracy: 0.7823\n",
      "Epoch 5/30\n",
      "1602/1602 [==============================] - 10s 6ms/step - loss: 0.4370 - accuracy: 0.7834\n",
      "Epoch 6/30\n",
      "1602/1602 [==============================] - 10s 6ms/step - loss: 0.4354 - accuracy: 0.7845\n",
      "Epoch 7/30\n",
      "1602/1602 [==============================] - 11s 7ms/step - loss: 0.4348 - accuracy: 0.7846\n",
      "Epoch 8/30\n",
      "1602/1602 [==============================] - 11s 7ms/step - loss: 0.4338 - accuracy: 0.7845\n",
      "Epoch 9/30\n",
      "1602/1602 [==============================] - 15s 9ms/step - loss: 0.4321 - accuracy: 0.7858\n",
      "Epoch 10/30\n",
      "1602/1602 [==============================] - 13s 8ms/step - loss: 0.4321 - accuracy: 0.7863\n",
      "Epoch 11/30\n",
      "1602/1602 [==============================] - 14s 9ms/step - loss: 0.4321 - accuracy: 0.7861\n",
      "Epoch 12/30\n",
      "1602/1602 [==============================] - 14s 9ms/step - loss: 0.4312 - accuracy: 0.7860\n",
      "Epoch 13/30\n",
      "1602/1602 [==============================] - 14s 8ms/step - loss: 0.4309 - accuracy: 0.7865\n",
      "Epoch 14/30\n",
      "1602/1602 [==============================] - 14s 9ms/step - loss: 0.4294 - accuracy: 0.7875\n",
      "Epoch 15/30\n",
      "1602/1602 [==============================] - 14s 9ms/step - loss: 0.4290 - accuracy: 0.7876\n",
      "Epoch 16/30\n",
      "1602/1602 [==============================] - 12s 8ms/step - loss: 0.4280 - accuracy: 0.7880\n",
      "Epoch 17/30\n",
      "1602/1602 [==============================] - 8s 5ms/step - loss: 0.4289 - accuracy: 0.7868\n",
      "Epoch 18/30\n",
      "1602/1602 [==============================] - 8s 5ms/step - loss: 0.4293 - accuracy: 0.7868\n",
      "Epoch 19/30\n",
      "1602/1602 [==============================] - 8s 5ms/step - loss: 0.4273 - accuracy: 0.7878\n",
      "Epoch 20/30\n",
      "1602/1602 [==============================] - 8s 5ms/step - loss: 0.4270 - accuracy: 0.7881\n",
      "Epoch 21/30\n",
      "1602/1602 [==============================] - 8s 5ms/step - loss: 0.4273 - accuracy: 0.7874\n",
      "Epoch 22/30\n",
      "1602/1602 [==============================] - 8s 5ms/step - loss: 0.4253 - accuracy: 0.7889\n",
      "Epoch 23/30\n",
      "1602/1602 [==============================] - 8s 5ms/step - loss: 0.4261 - accuracy: 0.7887\n",
      "Epoch 24/30\n",
      "1602/1602 [==============================] - 8s 5ms/step - loss: 0.4249 - accuracy: 0.7892\n",
      "Epoch 25/30\n",
      "1602/1602 [==============================] - 8s 5ms/step - loss: 0.4244 - accuracy: 0.7895\n",
      "Epoch 26/30\n",
      "1602/1602 [==============================] - 8s 5ms/step - loss: 0.4232 - accuracy: 0.7899\n",
      "Epoch 27/30\n",
      "1602/1602 [==============================] - 8s 5ms/step - loss: 0.4239 - accuracy: 0.7897\n",
      "Epoch 28/30\n",
      "1602/1602 [==============================] - 8s 5ms/step - loss: 0.4232 - accuracy: 0.7900\n",
      "Epoch 29/30\n",
      "1602/1602 [==============================] - 10s 6ms/step - loss: 0.4238 - accuracy: 0.7901\n",
      "Epoch 30/30\n",
      "1602/1602 [==============================] - 10s 7ms/step - loss: 0.4232 - accuracy: 0.7898\n"
     ]
    }
   ],
   "source": [
    "# train on augmented data\n",
    "early_stopping.monitor = 'accuracy'\n",
    "history = model.fit(augmented_X,\n",
    "                    augmented_y,\n",
    "                    epochs=30,)\n",
    "#                     validation_data=[X_test, y_test],\n",
    "#                     callbacks=[early_stopping])"
   ]
  },
  {
   "cell_type": "code",
   "execution_count": 30,
   "metadata": {},
   "outputs": [
    {
     "ename": "NameError",
     "evalue": "name 'history' is not defined",
     "output_type": "error",
     "traceback": [
      "\u001b[0;31m-------------------------------------------------------------------\u001b[0m",
      "\u001b[0;31mNameError\u001b[0m                         Traceback (most recent call last)",
      "\u001b[0;32m<ipython-input-30-bbfae1ed09cb>\u001b[0m in \u001b[0;36m<module>\u001b[0;34m\u001b[0m\n\u001b[1;32m      6\u001b[0m \u001b[0;32mimport\u001b[0m \u001b[0mmatplotlib\u001b[0m\u001b[0;34m.\u001b[0m\u001b[0mpyplot\u001b[0m \u001b[0;32mas\u001b[0m \u001b[0mplt\u001b[0m\u001b[0;34m\u001b[0m\u001b[0;34m\u001b[0m\u001b[0m\n\u001b[1;32m      7\u001b[0m \u001b[0;34m\u001b[0m\u001b[0m\n\u001b[0;32m----> 8\u001b[0;31m \u001b[0mpd\u001b[0m\u001b[0;34m.\u001b[0m\u001b[0mDataFrame\u001b[0m\u001b[0;34m(\u001b[0m\u001b[0mhistory\u001b[0m\u001b[0;34m.\u001b[0m\u001b[0mhistory\u001b[0m\u001b[0;34m)\u001b[0m\u001b[0;34m.\u001b[0m\u001b[0mplot\u001b[0m\u001b[0;34m(\u001b[0m\u001b[0mfigsize\u001b[0m\u001b[0;34m=\u001b[0m\u001b[0;34m(\u001b[0m\u001b[0;36m10\u001b[0m\u001b[0;34m,\u001b[0m\u001b[0;36m5\u001b[0m\u001b[0;34m)\u001b[0m\u001b[0;34m)\u001b[0m\u001b[0;34m\u001b[0m\u001b[0;34m\u001b[0m\u001b[0m\n\u001b[0m\u001b[1;32m      9\u001b[0m \u001b[0mplt\u001b[0m\u001b[0;34m.\u001b[0m\u001b[0mshow\u001b[0m\u001b[0;34m(\u001b[0m\u001b[0;34m)\u001b[0m\u001b[0;34m\u001b[0m\u001b[0;34m\u001b[0m\u001b[0m\n\u001b[1;32m     10\u001b[0m \u001b[0maccuracy_score\u001b[0m\u001b[0;34m(\u001b[0m\u001b[0;34m[\u001b[0m\u001b[0mpred\u001b[0m\u001b[0;34m.\u001b[0m\u001b[0margmax\u001b[0m\u001b[0;34m(\u001b[0m\u001b[0;34m)\u001b[0m \u001b[0;32mfor\u001b[0m \u001b[0mpred\u001b[0m \u001b[0;32min\u001b[0m \u001b[0mmodel\u001b[0m\u001b[0;34m.\u001b[0m\u001b[0mpredict\u001b[0m\u001b[0;34m(\u001b[0m\u001b[0mX\u001b[0m\u001b[0;34m)\u001b[0m\u001b[0;34m]\u001b[0m\u001b[0;34m,\u001b[0m \u001b[0;34m[\u001b[0m\u001b[0my_\u001b[0m\u001b[0;34m.\u001b[0m\u001b[0margmax\u001b[0m\u001b[0;34m(\u001b[0m\u001b[0;34m)\u001b[0m \u001b[0;32mfor\u001b[0m \u001b[0my_\u001b[0m \u001b[0;32min\u001b[0m \u001b[0my\u001b[0m\u001b[0;34m]\u001b[0m\u001b[0;34m)\u001b[0m\u001b[0;34m\u001b[0m\u001b[0;34m\u001b[0m\u001b[0m\n",
      "\u001b[0;31mNameError\u001b[0m: name 'history' is not defined"
     ]
    }
   ],
   "source": [
    "# val_accuracy: 0.9214\n",
    "from sklearn.metrics import accuracy_score\n",
    "\n",
    "\n",
    "\n",
    "import matplotlib.pyplot as plt\n",
    "\n",
    "pd.DataFrame(history.history).plot(figsize=(10,5))\n",
    "plt.show()\n",
    "accuracy_score([pred.argmax() for pred in model.predict(X)], [y_.argmax() for y_ in y])"
   ]
  },
  {
   "cell_type": "code",
   "execution_count": 30,
   "metadata": {},
   "outputs": [
    {
     "data": {
      "text/html": [
       "<div>\n",
       "<style scoped>\n",
       "    .dataframe tbody tr th:only-of-type {\n",
       "        vertical-align: middle;\n",
       "    }\n",
       "\n",
       "    .dataframe tbody tr th {\n",
       "        vertical-align: top;\n",
       "    }\n",
       "\n",
       "    .dataframe thead th {\n",
       "        text-align: right;\n",
       "    }\n",
       "</style>\n",
       "<table border=\"1\" class=\"dataframe\">\n",
       "  <thead>\n",
       "    <tr style=\"text-align: right;\">\n",
       "      <th></th>\n",
       "      <th>ImageId</th>\n",
       "      <th>Label</th>\n",
       "    </tr>\n",
       "  </thead>\n",
       "  <tbody>\n",
       "    <tr>\n",
       "      <th>0</th>\n",
       "      <td>1</td>\n",
       "      <td>2</td>\n",
       "    </tr>\n",
       "    <tr>\n",
       "      <th>1</th>\n",
       "      <td>2</td>\n",
       "      <td>0</td>\n",
       "    </tr>\n",
       "    <tr>\n",
       "      <th>2</th>\n",
       "      <td>3</td>\n",
       "      <td>9</td>\n",
       "    </tr>\n",
       "    <tr>\n",
       "      <th>3</th>\n",
       "      <td>4</td>\n",
       "      <td>9</td>\n",
       "    </tr>\n",
       "    <tr>\n",
       "      <th>4</th>\n",
       "      <td>5</td>\n",
       "      <td>3</td>\n",
       "    </tr>\n",
       "    <tr>\n",
       "      <th>...</th>\n",
       "      <td>...</td>\n",
       "      <td>...</td>\n",
       "    </tr>\n",
       "    <tr>\n",
       "      <th>27995</th>\n",
       "      <td>27996</td>\n",
       "      <td>9</td>\n",
       "    </tr>\n",
       "    <tr>\n",
       "      <th>27996</th>\n",
       "      <td>27997</td>\n",
       "      <td>7</td>\n",
       "    </tr>\n",
       "    <tr>\n",
       "      <th>27997</th>\n",
       "      <td>27998</td>\n",
       "      <td>3</td>\n",
       "    </tr>\n",
       "    <tr>\n",
       "      <th>27998</th>\n",
       "      <td>27999</td>\n",
       "      <td>9</td>\n",
       "    </tr>\n",
       "    <tr>\n",
       "      <th>27999</th>\n",
       "      <td>28000</td>\n",
       "      <td>2</td>\n",
       "    </tr>\n",
       "  </tbody>\n",
       "</table>\n",
       "<p>28000 rows × 2 columns</p>\n",
       "</div>"
      ],
      "text/plain": [
       "       ImageId  Label\n",
       "0            1      2\n",
       "1            2      0\n",
       "2            3      9\n",
       "3            4      9\n",
       "4            5      3\n",
       "...        ...    ...\n",
       "27995    27996      9\n",
       "27996    27997      7\n",
       "27997    27998      3\n",
       "27998    27999      9\n",
       "27999    28000      2\n",
       "\n",
       "[28000 rows x 2 columns]"
      ]
     },
     "execution_count": 30,
     "metadata": {},
     "output_type": "execute_result"
    }
   ],
   "source": [
    "import csv\n",
    "from typing import List\n",
    "\n",
    "# Submittion Format:\n",
    "# ImageId,Label\n",
    "# 1,3\n",
    "# 2,7\n",
    "# 3,8 \n",
    "# (27997 more lines)\n",
    "\n",
    "def prepare_preds_for_submission(predictions: List[int]):\n",
    "    fields = ['ImageId', 'Label']\n",
    "    # data rows of csv file\n",
    "    predictions = [x.argmax() for x in predictions]\n",
    "    rows = enumerate(predictions, start=1)\n",
    "\n",
    "    with open('submission.csv', 'w') as f:\n",
    "        write = csv.writer(f)\n",
    "        write.writerow(fields)\n",
    "        write.writerows(rows)\n",
    "\n",
    "test_predictions = model.predict(prepage_input_shape(test_data))\n",
    "prepare_preds_for_submission(test_predictions)\n",
    "pd.read_csv('submission.csv')\n",
    "# [x.argmax() for x in test_predictions]"
   ]
  },
  {
   "cell_type": "code",
   "execution_count": 359,
   "metadata": {},
   "outputs": [
    {
     "name": "stdout",
     "output_type": "stream",
     "text": [
      "(8, 8)\n",
      "(1, 1)\n",
      "(9, 9)\n",
      "(9, 9)\n",
      "(8, 8)\n",
      "(6, 6)\n",
      "(2, 2)\n",
      "(2, 7)\n",
      "(7, 7)\n",
      "(1, 1)\n",
      "(6, 6)\n",
      "(3, 3)\n",
      "(1, 8)\n",
      "(2, 2)\n",
      "(7, 7)\n"
     ]
    },
    {
     "data": {
      "text/plain": [
       "False"
      ]
     },
     "execution_count": 359,
     "metadata": {},
     "output_type": "execute_result"
    }
   ],
   "source": [
    "size = 15\n",
    "\n",
    "targets = [x.argmax() for x in y_test[:size]]\n",
    "preds = [x.argmax() for x in model.predict(X_test[:size])]\n",
    "\n",
    "# targets = [x.argmax() for x in y_train[:size]]\n",
    "# preds = [x.argmax() for x in model.predict(X_train[:size])]\n",
    "\n",
    "for _ in zip(targets, preds):\n",
    "    print(_)\n",
    "targets == preds"
   ]
  },
  {
   "cell_type": "code",
   "execution_count": null,
   "metadata": {},
   "outputs": [
    {
     "name": "stdout",
     "output_type": "stream",
     "text": [
      "   4/1313 [..............................] - ETA: 15:57 - loss: 20.6020 - accuracy: 0.1016"
     ]
    }
   ],
   "source": [
    "from tensorflow import keras\n",
    "from keras.applications.inception_v3 import InceptionV3\n",
    "from keras.applications.vgg16 import VGG16\n",
    "from tensorflow.keras.utils import to_categorical\n",
    "from sklearn.model_selection import train_test_split\n",
    "\n",
    "def add_channels(img):\n",
    "    return np.array([img, img, img]) # pseudo 3-channels\n",
    "\n",
    "\n",
    "def prepage_input_shape_for_inception(data: pd.DataFrame):\n",
    "    data = np.array(\n",
    "        [add_channels(np.lib.pad(x.copy(), 120, constant_values=0))\n",
    "         for x in data.drop('label', axis=1).values]\n",
    "    ) # add padding to support 32X32 (32^2=1024) original size is 28^2=784 plus 120*2 (padding from both sides)\n",
    "    return data.reshape(-1, 32, 32, 3)\n",
    "\n",
    "\n",
    "vgg16 = VGG16(input_shape=(32, 32, 3), include_top=False, classes=10)\n",
    "model = keras.Sequential()\n",
    "model.add(vgg16)\n",
    "model.add(keras.layers.Flatten())\n",
    "model.add(keras.layers.Dense(10, activation='softmax'))\n",
    "\n",
    "opt = keras.optimizers.Adam(learning_rate=0.1)\n",
    "model.compile(optimizer=\"adam\", loss=keras.losses.categorical_crossentropy, metrics=['accuracy'])\n",
    "\n",
    "X_inception = prepage_input_shape_for_inception(train_data)\n",
    "y = to_categorical(train_data.label.values) # one-hot encode target \n",
    "# X_train, X_test, y_train, y_test = train_test_split(X, y, random_state=42)\n",
    "\n",
    "\n",
    "history = model.fit(X_inception, y)"
   ]
  },
  {
   "cell_type": "code",
   "execution_count": 39,
   "metadata": {},
   "outputs": [
    {
     "data": {
      "text/plain": [
       "0.114"
      ]
     },
     "execution_count": 39,
     "metadata": {},
     "output_type": "execute_result"
    }
   ],
   "source": [
    "from sklearn.metrics import accuracy_score\n",
    "\n",
    "size = 3000\n",
    "\n",
    "def to_classes(predictions: np.ndarray) -> int:\n",
    "    return [p.argmax() for p in predictions]\n",
    "\n",
    "preds = model.predict(prepage_input_shape_for_inception(train_data.iloc[:size]))\n",
    "preds = to_classes(preds)\n",
    "accuracy_score(preds, to_classes(y[:size]))"
   ]
  },
  {
   "cell_type": "code",
   "execution_count": null,
   "metadata": {},
   "outputs": [],
   "source": []
  }
 ],
 "metadata": {
  "kernelspec": {
   "display_name": "Python 3",
   "language": "python",
   "name": "python3"
  },
  "language_info": {
   "codemirror_mode": {
    "name": "ipython",
    "version": 3
   },
   "file_extension": ".py",
   "mimetype": "text/x-python",
   "name": "python",
   "nbconvert_exporter": "python",
   "pygments_lexer": "ipython3",
   "version": "3.8.5"
  }
 },
 "nbformat": 4,
 "nbformat_minor": 4
}
