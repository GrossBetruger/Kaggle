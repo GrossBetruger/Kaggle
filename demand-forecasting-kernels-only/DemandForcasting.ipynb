{
 "cells": [
  {
   "cell_type": "code",
   "execution_count": 1,
   "id": "d11969a3-c2ba-4f33-890b-64509ae2b7fe",
   "metadata": {},
   "outputs": [],
   "source": [
    "import pandas as pd\n",
    "import numpy as np\n",
    "import matplotlib.pyplot as plt\n",
    "import mapply\n",
    "\n",
    "from tqdm.notebook import tqdm\n",
    "from pathlib import Path\n",
    "\n",
    "tqdm.pandas()\n",
    "mapply.init(n_workers=-1)"
   ]
  },
  {
   "cell_type": "code",
   "execution_count": 2,
   "id": "796683d3-16e3-487b-a636-bbbe09d3def3",
   "metadata": {},
   "outputs": [
    {
     "data": {
      "application/vnd.jupyter.widget-view+json": {
       "model_id": "04c54ba41fb84a83a40e8342cd29f135",
       "version_major": 2,
       "version_minor": 0
      },
      "text/plain": [
       "  0%|                                   | 0/40 [00:00<?, ?it/s]"
      ]
     },
     "metadata": {},
     "output_type": "display_data"
    },
    {
     "data": {
      "text/html": [
       "<div>\n",
       "<style scoped>\n",
       "    .dataframe tbody tr th:only-of-type {\n",
       "        vertical-align: middle;\n",
       "    }\n",
       "\n",
       "    .dataframe tbody tr th {\n",
       "        vertical-align: top;\n",
       "    }\n",
       "\n",
       "    .dataframe thead th {\n",
       "        text-align: right;\n",
       "    }\n",
       "</style>\n",
       "<table border=\"1\" class=\"dataframe\">\n",
       "  <thead>\n",
       "    <tr style=\"text-align: right;\">\n",
       "      <th></th>\n",
       "      <th>store</th>\n",
       "      <th>item</th>\n",
       "      <th>sales</th>\n",
       "    </tr>\n",
       "    <tr>\n",
       "      <th>date</th>\n",
       "      <th></th>\n",
       "      <th></th>\n",
       "      <th></th>\n",
       "    </tr>\n",
       "  </thead>\n",
       "  <tbody>\n",
       "    <tr>\n",
       "      <th>2013-01-01</th>\n",
       "      <td>1</td>\n",
       "      <td>1</td>\n",
       "      <td>13</td>\n",
       "    </tr>\n",
       "    <tr>\n",
       "      <th>2013-01-02</th>\n",
       "      <td>1</td>\n",
       "      <td>1</td>\n",
       "      <td>11</td>\n",
       "    </tr>\n",
       "    <tr>\n",
       "      <th>2013-01-03</th>\n",
       "      <td>1</td>\n",
       "      <td>1</td>\n",
       "      <td>14</td>\n",
       "    </tr>\n",
       "    <tr>\n",
       "      <th>2013-01-04</th>\n",
       "      <td>1</td>\n",
       "      <td>1</td>\n",
       "      <td>13</td>\n",
       "    </tr>\n",
       "    <tr>\n",
       "      <th>2013-01-05</th>\n",
       "      <td>1</td>\n",
       "      <td>1</td>\n",
       "      <td>10</td>\n",
       "    </tr>\n",
       "    <tr>\n",
       "      <th>...</th>\n",
       "      <td>...</td>\n",
       "      <td>...</td>\n",
       "      <td>...</td>\n",
       "    </tr>\n",
       "    <tr>\n",
       "      <th>2017-12-27</th>\n",
       "      <td>10</td>\n",
       "      <td>50</td>\n",
       "      <td>63</td>\n",
       "    </tr>\n",
       "    <tr>\n",
       "      <th>2017-12-28</th>\n",
       "      <td>10</td>\n",
       "      <td>50</td>\n",
       "      <td>59</td>\n",
       "    </tr>\n",
       "    <tr>\n",
       "      <th>2017-12-29</th>\n",
       "      <td>10</td>\n",
       "      <td>50</td>\n",
       "      <td>74</td>\n",
       "    </tr>\n",
       "    <tr>\n",
       "      <th>2017-12-30</th>\n",
       "      <td>10</td>\n",
       "      <td>50</td>\n",
       "      <td>62</td>\n",
       "    </tr>\n",
       "    <tr>\n",
       "      <th>2017-12-31</th>\n",
       "      <td>10</td>\n",
       "      <td>50</td>\n",
       "      <td>82</td>\n",
       "    </tr>\n",
       "  </tbody>\n",
       "</table>\n",
       "<p>913000 rows × 3 columns</p>\n",
       "</div>"
      ],
      "text/plain": [
       "            store  item  sales\n",
       "date                          \n",
       "2013-01-01      1     1     13\n",
       "2013-01-02      1     1     11\n",
       "2013-01-03      1     1     14\n",
       "2013-01-04      1     1     13\n",
       "2013-01-05      1     1     10\n",
       "...           ...   ...    ...\n",
       "2017-12-27     10    50     63\n",
       "2017-12-28     10    50     59\n",
       "2017-12-29     10    50     74\n",
       "2017-12-30     10    50     62\n",
       "2017-12-31     10    50     82\n",
       "\n",
       "[913000 rows x 3 columns]"
      ]
     },
     "execution_count": 2,
     "metadata": {},
     "output_type": "execute_result"
    }
   ],
   "source": [
    "train_data = pd.read_csv(Path('data') / 'train.csv')\n",
    "train_data['date'] = train_data['date'].mapply(pd.to_datetime)\n",
    "train_data.set_index('date', inplace=True)\n",
    "train_data.index = pd.DatetimeIndex(train_data.index).to_period('1D')\n",
    "train_data"
   ]
  },
  {
   "cell_type": "code",
   "execution_count": 3,
   "id": "d31ccc59-8742-4c30-890c-74d7c8278f89",
   "metadata": {},
   "outputs": [
    {
     "data": {
      "image/png": "[encoded data removed]",
      "text/plain": [
       "<Figure size 432x288 with 1 Axes>"
      ]
     },
     "metadata": {
      "needs_background": "light"
     },
     "output_type": "display_data"
    }
   ],
   "source": [
    "years = train_data.index.year.unique()\n",
    "max_sales = train_data.sales.max()\n",
    "ax = train_data['sales'].plot()\n",
    "for year in years:\n",
    "    ax.vlines(pd.to_datetime(str(year) + '-01-01'), ymin=0, ymax=max_sales, color='gray')\n",
    "plt.show()"
   ]
  },
  {
   "cell_type": "markdown",
   "id": "24bc38a4-f4cc-40f6-8816-f5fcacac9dcc",
   "metadata": {},
   "source": [
    "### series looks **trend-stationary** and **highly seasonal**"
   ]
  },
  {
   "cell_type": "code",
   "execution_count": 4,
   "id": "14f3e536-2d82-486d-9cfa-d726d4fa99d0",
   "metadata": {},
   "outputs": [
    {
     "data": {
      "image/png": "[encoded data removed]",
      "text/plain": [
       "<Figure size 432x288 with 1 Axes>"
      ]
     },
     "metadata": {
      "needs_background": "light"
     },
     "output_type": "display_data"
    }
   ],
   "source": [
    "# try removing trend using first differences\n",
    "ax = train_data['sales'].diff(periods=1).plot()\n",
    "for year in years:\n",
    "    ax.vlines(pd.to_datetime(str(year) + '-01-01'), ymin=-max_sales, ymax=max_sales, color='gray')\n",
    "plt.show()\n",
    "# seems to work"
   ]
  },
  {
   "cell_type": "code",
   "execution_count": 5,
   "id": "f6b172d6-0f31-4c29-b32e-d885baaf9153",
   "metadata": {},
   "outputs": [
    {
     "data": {
      "image/png": "[encoded data removed]",
      "text/plain": [
       "<Figure size 432x288 with 1 Axes>"
      ]
     },
     "metadata": {
      "needs_background": "light"
     },
     "output_type": "display_data"
    },
    {
     "data": {
      "image/png": "[encoded data removed]",
      "text/plain": [
       "<Figure size 432x288 with 1 Axes>"
      ]
     },
     "metadata": {
      "needs_background": "light"
     },
     "output_type": "display_data"
    }
   ],
   "source": [
    "from statsmodels.graphics.tsaplots import plot_acf, plot_pacf\n",
    "\n",
    "# plt.title('acf')\n",
    "acf = plot_acf(train_data['sales'][:10000])\n",
    "# plt.title('pacf')\n",
    "pacf = plot_pacf(train_data['sales'][:10000], method='ywm')\n",
    "# plt.title('pacf first diffs')\n",
    "# pacf_diffs = plot_pacf(train_data['sales'].diff(periods=1), method='ywm')\n",
    "plt.show()"
   ]
  },
  {
   "cell_type": "code",
   "execution_count": 296,
   "id": "f5a4b90b-26d6-4b95-8000-fdeebdad44f7",
   "metadata": {},
   "outputs": [
    {
     "data": {
      "image/png": "[encoded data removed]",
      "text/plain": [
       "<Figure size 432x288 with 1 Axes>"
      ]
     },
     "metadata": {
      "needs_background": "light"
     },
     "output_type": "display_data"
    },
    {
     "name": "stdout",
     "output_type": "stream",
     "text": [
      "MSE (yearly model): 218.14757723068948\n",
      "MSE (weekly model): 374.91768367971343\n"
     ]
    }
   ],
   "source": [
    "from statsmodels.tsa.arima.model import ARIMA\n",
    "from statsmodels.tsa.ar_model import AutoReg\n",
    "from sklearn.metrics import mean_squared_error \n",
    "\n",
    "\n",
    "def train_test_simple_split(data: pd.DataFrame, test_size: int):\n",
    "    return data[:-test_size], data[-test_size:]\n",
    "\n",
    "test_size = 365 * 5\n",
    "data_limit = 365*10\n",
    "# data = train_data[train_data['store'] == 2]\n",
    "data = train_data[train_data['item'] == 3]\n",
    "data = data[:data_limit]\n",
    "data = data['sales'].values\n",
    "train, test = train_test_simple_split(data, test_size=test_size)\n",
    "\n",
    "\n",
    "year_model = AutoReg(train, lags=120, seasonal=True, period=365)\n",
    "year_model_fit = year_model.fit()\n",
    "year_predictions = year_model_fit.predict(start=len(train), end=len(train)+len(test)-1)\n",
    "\n",
    "week_model = AutoReg(train, lags=10, seasonal=True, period=7)\n",
    "week_model_fit = week_model.fit()\n",
    "week_predictions = week_model_fit.predict(start=len(train), end=len(train)+len(test)-1)\n",
    "\n",
    "plt.title('ARIMA Model')\n",
    "plt.plot(week_predictions, label='week model predictions', color='y')\n",
    "plt.plot(year_predictions, label='preds')\n",
    "plt.plot(test, label='test', color='g')\n",
    "plt.legend()\n",
    "plt.show()\n",
    "print('MSE (yearly model):', mean_squared_error(year_predictions, test))\n",
    "print('MSE (weekly model):', mean_squared_error(week_predictions, test))\n",
    "# up until 5 weeks weekly model performs better than yearly model\n",
    "# after that yearly model starts outperforming"
   ]
  },
  {
   "cell_type": "code",
   "execution_count": 283,
   "id": "1c0cf4ab-9f5c-4485-9d0b-dfe2dab5a6ea",
   "metadata": {},
   "outputs": [
    {
     "data": {
      "image/png": "[encoded data removed]",
      "text/plain": [
       "<Figure size 432x288 with 1 Axes>"
      ]
     },
     "metadata": {
      "needs_background": "light"
     },
     "output_type": "display_data"
    },
    {
     "name": "stdout",
     "output_type": "stream",
     "text": [
      "MSE Ensemble: 114.60687421240465\n"
     ]
    }
   ],
   "source": [
    "from sklearn.tree import DecisionTreeRegressor\n",
    "from sklearn.linear_model import LinearRegression\n",
    "from sklearn.model_selection import train_test_split\n",
    "\n",
    "ensemble_model_X = pd.DataFrame()\n",
    "ensemble_model_X['weekly_prediction'] = week_predictions\n",
    "ensemble_model_X['yearly_prediction'] = year_predictions\n",
    "\n",
    "X_train, X_test, y_train, y_test = train_test_split(ensemble_model_X, test, test_size=0.1)\n",
    "ensembel = LinearRegression()\n",
    "ensembel.fit(X_train, y_train)\n",
    "ensembel_predictions = ensembel.predict(X_test)\n",
    "plt.title('Ensemble Learner Predictions')\n",
    "plt.plot(y_test, label='sales')\n",
    "plt.plot(ensembel_predictions, label='ensemble predictions')\n",
    "plt.show()\n",
    "print(f'MSE Ensemble: {mean_squared_error(ensembel_predictions, y_test)}')"
   ]
  },
  {
   "cell_type": "code",
   "execution_count": null,
   "id": "c2c8ccb9-d4a6-4617-bb0e-1057d3ff4782",
   "metadata": {},
   "outputs": [],
   "source": [
    "def train_yearly_models(data):\n",
    "    models = dict()\n",
    "    for item in data['item'].unique():\n",
    "        train = data[data['item'] == item]\n",
    "        train = data['sales'].values\n",
    "        model = AutoReg(train, lags=120, seasonal=True, period=365)\n",
    "        model_fit = year_model.fit()\n",
    "        models[item] = model_fit\n",
    "    return models\n",
    "\n",
    "\n",
    "def train_weekly_models(data):\n",
    "    models = dict()\n",
    "    for item in data['item'].unique():\n",
    "        train = data[data['item'] == item]\n",
    "        train = data['sales'].values\n",
    "        model = AutoReg(train, lags=10, seasonal=True, period=7)\n",
    "        model_fit = week_model.fit()\n",
    "        models[item] = model_fit\n",
    "    return models\n",
    "\n",
    "yearly_models = train_yearly_models(train_data)\n",
    "week_models = train_weekly_models(train_data)"
   ]
  },
  {
   "cell_type": "code",
   "execution_count": null,
   "id": "cee33e85-d61f-4371-94d6-00a0ff6565cf",
   "metadata": {},
   "outputs": [],
   "source": []
  },
  {
   "cell_type": "code",
   "execution_count": 80,
   "id": "113b0c19-b3e6-4f3f-ab1a-59afa53d551e",
   "metadata": {},
   "outputs": [],
   "source": [
    "store_sells = pd.DataFrame()\n",
    "for store_id in train_data['store'].unique():\n",
    "    store_sells[f'store_{store_id}'] = train_data[train_data['store'] == store_id]['sales']\n",
    "    "
   ]
  },
  {
   "cell_type": "code",
   "execution_count": 95,
   "id": "50287a69-f827-4fdb-b175-3b6f481c3288",
   "metadata": {},
   "outputs": [
    {
     "data": {
      "text/html": [
       "<div>\n",
       "<style scoped>\n",
       "    .dataframe tbody tr th:only-of-type {\n",
       "        vertical-align: middle;\n",
       "    }\n",
       "\n",
       "    .dataframe tbody tr th {\n",
       "        vertical-align: top;\n",
       "    }\n",
       "\n",
       "    .dataframe thead th {\n",
       "        text-align: right;\n",
       "    }\n",
       "</style>\n",
       "<table border=\"1\" class=\"dataframe\">\n",
       "  <thead>\n",
       "    <tr style=\"text-align: right;\">\n",
       "      <th></th>\n",
       "      <th>store_1</th>\n",
       "      <th>store_2</th>\n",
       "      <th>store_3</th>\n",
       "      <th>store_4</th>\n",
       "      <th>store_5</th>\n",
       "      <th>store_6</th>\n",
       "      <th>store_7</th>\n",
       "      <th>store_8</th>\n",
       "      <th>store_9</th>\n",
       "      <th>store_10</th>\n",
       "    </tr>\n",
       "  </thead>\n",
       "  <tbody>\n",
       "    <tr>\n",
       "      <th>store_1</th>\n",
       "      <td>1.000000</td>\n",
       "      <td>0.929090</td>\n",
       "      <td>0.926162</td>\n",
       "      <td>0.923333</td>\n",
       "      <td>0.910703</td>\n",
       "      <td>0.910518</td>\n",
       "      <td>0.906839</td>\n",
       "      <td>0.928291</td>\n",
       "      <td>0.923280</td>\n",
       "      <td>0.925669</td>\n",
       "    </tr>\n",
       "    <tr>\n",
       "      <th>store_2</th>\n",
       "      <td>0.929090</td>\n",
       "      <td>1.000000</td>\n",
       "      <td>0.937152</td>\n",
       "      <td>0.934404</td>\n",
       "      <td>0.921542</td>\n",
       "      <td>0.922106</td>\n",
       "      <td>0.918576</td>\n",
       "      <td>0.939480</td>\n",
       "      <td>0.934491</td>\n",
       "      <td>0.936687</td>\n",
       "    </tr>\n",
       "    <tr>\n",
       "      <th>store_3</th>\n",
       "      <td>0.926162</td>\n",
       "      <td>0.937152</td>\n",
       "      <td>1.000000</td>\n",
       "      <td>0.931131</td>\n",
       "      <td>0.918658</td>\n",
       "      <td>0.918339</td>\n",
       "      <td>0.914714</td>\n",
       "      <td>0.936399</td>\n",
       "      <td>0.931772</td>\n",
       "      <td>0.933547</td>\n",
       "    </tr>\n",
       "    <tr>\n",
       "      <th>store_4</th>\n",
       "      <td>0.923333</td>\n",
       "      <td>0.934404</td>\n",
       "      <td>0.931131</td>\n",
       "      <td>1.000000</td>\n",
       "      <td>0.915812</td>\n",
       "      <td>0.915586</td>\n",
       "      <td>0.912044</td>\n",
       "      <td>0.933524</td>\n",
       "      <td>0.928101</td>\n",
       "      <td>0.930242</td>\n",
       "    </tr>\n",
       "    <tr>\n",
       "      <th>store_5</th>\n",
       "      <td>0.910703</td>\n",
       "      <td>0.921542</td>\n",
       "      <td>0.918658</td>\n",
       "      <td>0.915812</td>\n",
       "      <td>1.000000</td>\n",
       "      <td>0.903516</td>\n",
       "      <td>0.899725</td>\n",
       "      <td>0.921059</td>\n",
       "      <td>0.915338</td>\n",
       "      <td>0.917668</td>\n",
       "    </tr>\n",
       "    <tr>\n",
       "      <th>store_6</th>\n",
       "      <td>0.910518</td>\n",
       "      <td>0.922106</td>\n",
       "      <td>0.918339</td>\n",
       "      <td>0.915586</td>\n",
       "      <td>0.903516</td>\n",
       "      <td>1.000000</td>\n",
       "      <td>0.899476</td>\n",
       "      <td>0.920815</td>\n",
       "      <td>0.916065</td>\n",
       "      <td>0.918320</td>\n",
       "    </tr>\n",
       "    <tr>\n",
       "      <th>store_7</th>\n",
       "      <td>0.906839</td>\n",
       "      <td>0.918576</td>\n",
       "      <td>0.914714</td>\n",
       "      <td>0.912044</td>\n",
       "      <td>0.899725</td>\n",
       "      <td>0.899476</td>\n",
       "      <td>1.000000</td>\n",
       "      <td>0.916610</td>\n",
       "      <td>0.911999</td>\n",
       "      <td>0.914085</td>\n",
       "    </tr>\n",
       "    <tr>\n",
       "      <th>store_8</th>\n",
       "      <td>0.928291</td>\n",
       "      <td>0.939480</td>\n",
       "      <td>0.936399</td>\n",
       "      <td>0.933524</td>\n",
       "      <td>0.921059</td>\n",
       "      <td>0.920815</td>\n",
       "      <td>0.916610</td>\n",
       "      <td>1.000000</td>\n",
       "      <td>0.933601</td>\n",
       "      <td>0.935009</td>\n",
       "    </tr>\n",
       "    <tr>\n",
       "      <th>store_9</th>\n",
       "      <td>0.923280</td>\n",
       "      <td>0.934491</td>\n",
       "      <td>0.931772</td>\n",
       "      <td>0.928101</td>\n",
       "      <td>0.915338</td>\n",
       "      <td>0.916065</td>\n",
       "      <td>0.911999</td>\n",
       "      <td>0.933601</td>\n",
       "      <td>1.000000</td>\n",
       "      <td>0.930824</td>\n",
       "    </tr>\n",
       "    <tr>\n",
       "      <th>store_10</th>\n",
       "      <td>0.925669</td>\n",
       "      <td>0.936687</td>\n",
       "      <td>0.933547</td>\n",
       "      <td>0.930242</td>\n",
       "      <td>0.917668</td>\n",
       "      <td>0.918320</td>\n",
       "      <td>0.914085</td>\n",
       "      <td>0.935009</td>\n",
       "      <td>0.930824</td>\n",
       "      <td>1.000000</td>\n",
       "    </tr>\n",
       "  </tbody>\n",
       "</table>\n",
       "</div>"
      ],
      "text/plain": [
       "           store_1   store_2   store_3   store_4   store_5   store_6  \\\n",
       "store_1   1.000000  0.929090  0.926162  0.923333  0.910703  0.910518   \n",
       "store_2   0.929090  1.000000  0.937152  0.934404  0.921542  0.922106   \n",
       "store_3   0.926162  0.937152  1.000000  0.931131  0.918658  0.918339   \n",
       "store_4   0.923333  0.934404  0.931131  1.000000  0.915812  0.915586   \n",
       "store_5   0.910703  0.921542  0.918658  0.915812  1.000000  0.903516   \n",
       "store_6   0.910518  0.922106  0.918339  0.915586  0.903516  1.000000   \n",
       "store_7   0.906839  0.918576  0.914714  0.912044  0.899725  0.899476   \n",
       "store_8   0.928291  0.939480  0.936399  0.933524  0.921059  0.920815   \n",
       "store_9   0.923280  0.934491  0.931772  0.928101  0.915338  0.916065   \n",
       "store_10  0.925669  0.936687  0.933547  0.930242  0.917668  0.918320   \n",
       "\n",
       "           store_7   store_8   store_9  store_10  \n",
       "store_1   0.906839  0.928291  0.923280  0.925669  \n",
       "store_2   0.918576  0.939480  0.934491  0.936687  \n",
       "store_3   0.914714  0.936399  0.931772  0.933547  \n",
       "store_4   0.912044  0.933524  0.928101  0.930242  \n",
       "store_5   0.899725  0.921059  0.915338  0.917668  \n",
       "store_6   0.899476  0.920815  0.916065  0.918320  \n",
       "store_7   1.000000  0.916610  0.911999  0.914085  \n",
       "store_8   0.916610  1.000000  0.933601  0.935009  \n",
       "store_9   0.911999  0.933601  1.000000  0.930824  \n",
       "store_10  0.914085  0.935009  0.930824  1.000000  "
      ]
     },
     "execution_count": 95,
     "metadata": {},
     "output_type": "execute_result"
    }
   ],
   "source": [
    "store_sells.corr() # correlation between stores seem high"
   ]
  },
  {
   "cell_type": "code",
   "execution_count": 280,
   "id": "b96756b0-badb-40b0-99c6-52324cf51f82",
   "metadata": {},
   "outputs": [
    {
     "data": {
      "text/plain": [
       "item_1     0.673155\n",
       "item_2     0.747042\n",
       "item_3     0.716982\n",
       "item_4     0.669915\n",
       "item_5     0.669915\n",
       "item_6     0.749287\n",
       "item_7     0.747620\n",
       "item_8     0.759734\n",
       "item_9     0.738419\n",
       "item_10    0.756523\n",
       "item_11    0.758341\n",
       "item_12    0.756040\n",
       "item_13    0.763824\n",
       "item_14    0.747608\n",
       "item_15    0.768733\n",
       "item_16    0.689959\n",
       "item_17    0.707740\n",
       "item_18    0.766220\n",
       "item_19    0.726545\n",
       "item_20    0.738768\n",
       "item_21    0.723412\n",
       "item_22    0.764100\n",
       "item_23    0.698545\n",
       "item_24    0.753959\n",
       "item_25    0.764246\n",
       "item_26    0.737400\n",
       "item_27    0.672275\n",
       "item_28    0.766297\n",
       "item_29    0.756784\n",
       "item_30    0.724627\n",
       "item_31    0.748456\n",
       "item_32    0.728117\n",
       "item_33    0.757909\n",
       "item_34    0.690487\n",
       "item_35    0.753435\n",
       "item_36    0.763405\n",
       "item_37    0.698056\n",
       "item_38    0.763026\n",
       "item_39    0.729369\n",
       "item_40    0.699901\n",
       "item_41    0.672166\n",
       "item_42    0.715900\n",
       "item_43    0.740534\n",
       "item_44    0.699195\n",
       "item_45    0.762919\n",
       "item_46    0.748601\n",
       "item_47    0.678470\n",
       "item_48    0.738397\n",
       "item_49    0.699108\n",
       "item_50    0.754126\n",
       "dtype: float64"
      ]
     },
     "execution_count": 280,
     "metadata": {},
     "output_type": "execute_result"
    }
   ],
   "source": [
    "item_sells = pd.DataFrame()\n",
    "for item_id in train_data['item'].unique():\n",
    "    item_sells[f'item_{item_id}'] = train_data[train_data['item'] == item_id]['sales']\n",
    "\n",
    "# item_sells.corr()\n",
    "# item correlation seems to be lower \n",
    "item_sells.corr().min()"
   ]
  },
  {
   "cell_type": "code",
   "execution_count": 173,
   "id": "eaa607c9-bbe7-444b-8212-15bb412b0821",
   "metadata": {},
   "outputs": [
    {
     "data": {
      "text/html": [
       "<div>\n",
       "<style scoped>\n",
       "    .dataframe tbody tr th:only-of-type {\n",
       "        vertical-align: middle;\n",
       "    }\n",
       "\n",
       "    .dataframe tbody tr th {\n",
       "        vertical-align: top;\n",
       "    }\n",
       "\n",
       "    .dataframe thead th {\n",
       "        text-align: right;\n",
       "    }\n",
       "</style>\n",
       "<table border=\"1\" class=\"dataframe\">\n",
       "  <thead>\n",
       "    <tr style=\"text-align: right;\">\n",
       "      <th></th>\n",
       "      <th>store</th>\n",
       "      <th>item</th>\n",
       "      <th>sales</th>\n",
       "    </tr>\n",
       "    <tr>\n",
       "      <th>date</th>\n",
       "      <th></th>\n",
       "      <th></th>\n",
       "      <th></th>\n",
       "    </tr>\n",
       "  </thead>\n",
       "  <tbody>\n",
       "    <tr>\n",
       "      <th>2013-01-01</th>\n",
       "      <td>1</td>\n",
       "      <td>1</td>\n",
       "      <td>13</td>\n",
       "    </tr>\n",
       "    <tr>\n",
       "      <th>2013-01-02</th>\n",
       "      <td>1</td>\n",
       "      <td>1</td>\n",
       "      <td>11</td>\n",
       "    </tr>\n",
       "    <tr>\n",
       "      <th>2013-01-03</th>\n",
       "      <td>1</td>\n",
       "      <td>1</td>\n",
       "      <td>14</td>\n",
       "    </tr>\n",
       "    <tr>\n",
       "      <th>2013-01-04</th>\n",
       "      <td>1</td>\n",
       "      <td>1</td>\n",
       "      <td>13</td>\n",
       "    </tr>\n",
       "    <tr>\n",
       "      <th>2013-01-05</th>\n",
       "      <td>1</td>\n",
       "      <td>1</td>\n",
       "      <td>10</td>\n",
       "    </tr>\n",
       "    <tr>\n",
       "      <th>...</th>\n",
       "      <td>...</td>\n",
       "      <td>...</td>\n",
       "      <td>...</td>\n",
       "    </tr>\n",
       "    <tr>\n",
       "      <th>2017-12-27</th>\n",
       "      <td>10</td>\n",
       "      <td>50</td>\n",
       "      <td>63</td>\n",
       "    </tr>\n",
       "    <tr>\n",
       "      <th>2017-12-28</th>\n",
       "      <td>10</td>\n",
       "      <td>50</td>\n",
       "      <td>59</td>\n",
       "    </tr>\n",
       "    <tr>\n",
       "      <th>2017-12-29</th>\n",
       "      <td>10</td>\n",
       "      <td>50</td>\n",
       "      <td>74</td>\n",
       "    </tr>\n",
       "    <tr>\n",
       "      <th>2017-12-30</th>\n",
       "      <td>10</td>\n",
       "      <td>50</td>\n",
       "      <td>62</td>\n",
       "    </tr>\n",
       "    <tr>\n",
       "      <th>2017-12-31</th>\n",
       "      <td>10</td>\n",
       "      <td>50</td>\n",
       "      <td>82</td>\n",
       "    </tr>\n",
       "  </tbody>\n",
       "</table>\n",
       "<p>913000 rows × 3 columns</p>\n",
       "</div>"
      ],
      "text/plain": [
       "            store  item  sales\n",
       "date                          \n",
       "2013-01-01      1     1     13\n",
       "2013-01-02      1     1     11\n",
       "2013-01-03      1     1     14\n",
       "2013-01-04      1     1     13\n",
       "2013-01-05      1     1     10\n",
       "...           ...   ...    ...\n",
       "2017-12-27     10    50     63\n",
       "2017-12-28     10    50     59\n",
       "2017-12-29     10    50     74\n",
       "2017-12-30     10    50     62\n",
       "2017-12-31     10    50     82\n",
       "\n",
       "[913000 rows x 3 columns]"
      ]
     },
     "execution_count": 173,
     "metadata": {},
     "output_type": "execute_result"
    }
   ],
   "source": []
  },
  {
   "cell_type": "code",
   "execution_count": null,
   "id": "de733687-1faa-4e59-9bd9-91b175dd3f7b",
   "metadata": {},
   "outputs": [],
   "source": []
  }
 ],
 "metadata": {
  "kernelspec": {
   "display_name": "Python 3",
   "language": "python",
   "name": "python3"
  },
  "language_info": {
   "codemirror_mode": {
    "name": "ipython",
    "version": 3
   },
   "file_extension": ".py",
   "mimetype": "text/x-python",
   "name": "python",
   "nbconvert_exporter": "python",
   "pygments_lexer": "ipython3",
   "version": "3.9.4"
  }
 },
 "nbformat": 4,
 "nbformat_minor": 5
}
